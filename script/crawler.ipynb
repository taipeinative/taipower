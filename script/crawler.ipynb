{
 "cells": [
  {
   "cell_type": "code",
   "execution_count": null,
   "id": "5a319a72",
   "metadata": {},
   "outputs": [],
   "source": [
    "from datetime import datetime\n",
    "from tender import get_records_as_dataframe # See `tender.py` for crawler details\n",
    "from time import sleep\n",
    "\n",
    "# Constants\n",
    "SPACING = 1.5\n",
    "\n",
    "def query_tenders(q: str, verbose: bool = False) -> None:\n",
    "    current = datetime.now().year - 1911\n",
    "    log_level = 'none'\n",
    "    if (verbose):\n",
    "        log_level = 'verbose'\n",
    "    for year in range(88, current + 1):\n",
    "        df = get_records_as_dataframe(q, level=log_level, minguo=True, range=(year, year), spacing=SPACING)\n",
    "        df.to_csv(f'../data/{q}_{year:03d}.csv', index=False)\n",
    "        print(f'{len(df)} record(s) found in {year + 1911}.')\n",
    "        sleep(SPACING)"
   ]
  },
  {
   "cell_type": "code",
   "execution_count": null,
   "id": "7a6ad23d",
   "metadata": {},
   "outputs": [],
   "source": [
    "query_tenders('公車')"
   ]
  }
 ],
 "metadata": {
  "kernelspec": {
   "display_name": "crawler",
   "language": "python",
   "name": "python3"
  },
  "language_info": {
   "codemirror_mode": {
    "name": "ipython",
    "version": 3
   },
   "file_extension": ".py",
   "mimetype": "text/x-python",
   "name": "python",
   "nbconvert_exporter": "python",
   "pygments_lexer": "ipython3",
   "version": "3.11.9"
  }
 },
 "nbformat": 4,
 "nbformat_minor": 5
}
